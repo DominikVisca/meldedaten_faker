{
 "cells": [
  {
   "cell_type": "code",
   "execution_count": 21,
   "id": "8dbb7818",
   "metadata": {},
   "outputs": [],
   "source": [
    "from faker import Faker\n",
    "import datetime\n",
    "import random\n",
    "import overpy\n",
    "import pandas as pd\n",
    "\n",
    "api = overpy.Overpass()"
   ]
  },
  {
   "cell_type": "code",
   "execution_count": 22,
   "id": "9c97d205",
   "metadata": {},
   "outputs": [],
   "source": [
    "records = 10000"
   ]
  },
  {
   "cell_type": "markdown",
   "id": "0610f5c0",
   "metadata": {},
   "source": [
    "Test für Stadt Herborn (OT Herborn)"
   ]
  },
  {
   "cell_type": "code",
   "execution_count": 23,
   "id": "4c44d492",
   "metadata": {},
   "outputs": [],
   "source": [
    "response = api.query(\"\"\"[out:json][timeout:100];\n",
    "(\n",
    "  way(poly:\"50.666582972805926 8.305402116810889 \n",
    "        50.67057130716934 8.32040906983932 \n",
    "        50.694230917799743 8.321625849814598 \n",
    "        50.696596878862785 8.310066440049455 \n",
    "        50.695008305006169 8.305875309023497 \n",
    "        50.694298516687255 8.305537314585921 \n",
    "        50.692929639215066 8.303644545735487 \n",
    "        50.691172068139664 8.302715061032151 \n",
    "        50.686964037391832 8.298743626390618 \n",
    "        50.686119051297887 8.298050737793584 \n",
    "        50.684581176606919 8.289448779357244 \n",
    "        50.682772906365884 8.286356130253411 \n",
    "        50.681082934177994 8.285156250000012 \n",
    "        50.677314296199008 8.284023968634129 \n",
    "        50.673883652657594 8.284040868356007 \n",
    "        50.671095198547576 8.285832238875166 \n",
    "        50.667258961681078 8.302478464925846 \n",
    "        50.667258961681078 8.302478464925846 \n",
    "        50.666582972805926 8.305402116810889\")[building][\"addr:street\"];\n",
    ");out meta;>;out meta qt;\"\"\")"
   ]
  },
  {
   "cell_type": "code",
   "execution_count": 24,
   "id": "bc3346ca",
   "metadata": {},
   "outputs": [],
   "source": [
    "table = []"
   ]
  },
  {
   "cell_type": "code",
   "execution_count": 25,
   "id": "f07fdee4",
   "metadata": {},
   "outputs": [],
   "source": [
    "fake = Faker('de_DE')"
   ]
  },
  {
   "cell_type": "code",
   "execution_count": 26,
   "id": "36531211",
   "metadata": {},
   "outputs": [],
   "source": [
    "gender = [\"m\", \"w\"]"
   ]
  },
  {
   "cell_type": "code",
   "execution_count": 27,
   "id": "8e54d9cc",
   "metadata": {},
   "outputs": [],
   "source": [
    "for way in response.ways:\n",
    "    row = []\n",
    "    row.append(fake.date(pattern=\"%Y\"))\n",
    "    row.append(random.choice(gender))\n",
    "    row.append(way.tags['addr:street'])\n",
    "    row.append(way.tags['addr:housenumber']) if 'addr:housenumber' in way.tags else row.append(\"\")\n",
    "    row.append(way.tags['addr:postcode']) if 'addr:postcode' in way.tags else row.append(\"\")\n",
    "    row.append(way.tags['addr:city']) if 'addr:city' in way.tags else row.append(\"\")\n",
    "    table.append(row)"
   ]
  },
  {
   "cell_type": "code",
   "execution_count": 28,
   "id": "b933abd5",
   "metadata": {},
   "outputs": [],
   "source": [
    "for i in range(records-len(table)):\n",
    "    row = []\n",
    "    random_row = random.choice(response.ways)\n",
    "    row.append(fake.date(pattern=\"%Y\"))\n",
    "    row.append(random.choice(gender))\n",
    "    row.append(random_row.tags['addr:street'])\n",
    "    row.append(random_row.tags['addr:housenumber']) if 'addr:housenumber' in random_row.tags else row.append(\"\")\n",
    "    row.append(random_row.tags['addr:postcode']) if 'addr:postcode' in random_row.tags else row.append(\"\")\n",
    "    row.append(random_row.tags['addr:city']) if 'addr:city' in random_row.tags else row.append(\"\")\n",
    "    table.append(row)"
   ]
  },
  {
   "cell_type": "code",
   "execution_count": 29,
   "id": "3aae83bb",
   "metadata": {},
   "outputs": [],
   "source": [
    "data_frame = pd.DataFrame(table)"
   ]
  },
  {
   "cell_type": "code",
   "execution_count": 30,
   "id": "ecc37d4e",
   "metadata": {},
   "outputs": [],
   "source": [
    "data_frame.to_csv('output_data.csv', header=[\"Geburtsjahr\", \"Geschlecht\", \"Strasse\", \"Hausnummer\", \"PLZ\", \"Ort\"], index=False)"
   ]
  },
  {
   "cell_type": "code",
   "execution_count": null,
   "id": "c9bbb1b1",
   "metadata": {},
   "outputs": [],
   "source": []
  }
 ],
 "metadata": {
  "kernelspec": {
   "display_name": "Python 3 (ipykernel)",
   "language": "python",
   "name": "python3"
  },
  "language_info": {
   "codemirror_mode": {
    "name": "ipython",
    "version": 3
   },
   "file_extension": ".py",
   "mimetype": "text/x-python",
   "name": "python",
   "nbconvert_exporter": "python",
   "pygments_lexer": "ipython3",
   "version": "3.9.7"
  }
 },
 "nbformat": 4,
 "nbformat_minor": 5
}
